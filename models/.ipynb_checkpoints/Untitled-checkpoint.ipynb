{
 "cells": [
  {
   "cell_type": "code",
   "execution_count": null,
   "id": "a6e81bcf-c307-4b0e-b210-ccd00dc16360",
   "metadata": {},
   "outputs": [],
   "source": []
  },
  {
   "cell_type": "code",
   "execution_count": null,
   "id": "463b4224-cc39-4526-a723-6ea759f5f284",
   "metadata": {},
   "outputs": [],
   "source": []
  }
 ],
 "metadata": {
  "kernelspec": {
   "display_name": "",
   "name": ""
  },
  "language_info": {
   "name": ""
  }
 },
 "nbformat": 4,
 "nbformat_minor": 5
}
